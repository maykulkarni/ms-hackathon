{
 "cells": [
  {
   "cell_type": "code",
   "execution_count": 1,
   "metadata": {},
   "outputs": [],
   "source": [
    "import pandas as pd\n",
    "from collections import defaultdict"
   ]
  },
  {
   "cell_type": "code",
   "execution_count": 2,
   "metadata": {},
   "outputs": [],
   "source": [
    "df = pd.read_csv(\"data.csv\")\n",
    "reqd = [\"ResourceGroupId\", \"Feature\", \"CategoryName\", \"VerificationResult\", \"ControlStringId\"]\n",
    "df = df[reqd]"
   ]
  },
  {
   "cell_type": "code",
   "execution_count": 3,
   "metadata": {},
   "outputs": [
    {
     "data": {
      "text/html": [
       "<div>\n",
       "<style scoped>\n",
       "    .dataframe tbody tr th:only-of-type {\n",
       "        vertical-align: middle;\n",
       "    }\n",
       "\n",
       "    .dataframe tbody tr th {\n",
       "        vertical-align: top;\n",
       "    }\n",
       "\n",
       "    .dataframe thead th {\n",
       "        text-align: right;\n",
       "    }\n",
       "</style>\n",
       "<table border=\"1\" class=\"dataframe\">\n",
       "  <thead>\n",
       "    <tr style=\"text-align: right;\">\n",
       "      <th></th>\n",
       "      <th>ResourceGroupId</th>\n",
       "      <th>Feature</th>\n",
       "      <th>CategoryName</th>\n",
       "      <th>VerificationResult</th>\n",
       "      <th>ControlStringId</th>\n",
       "    </tr>\n",
       "  </thead>\n",
       "  <tbody>\n",
       "    <tr>\n",
       "      <th>0</th>\n",
       "      <td>2</td>\n",
       "      <td>SQLDatabase</td>\n",
       "      <td>Storage</td>\n",
       "      <td>Verify</td>\n",
       "      <td>Azure_SQLDatabase_AuthZ_Firewall_Deny_Access_A...</td>\n",
       "    </tr>\n",
       "    <tr>\n",
       "      <th>1</th>\n",
       "      <td>2</td>\n",
       "      <td>SQLDatabase</td>\n",
       "      <td>DataProcessing</td>\n",
       "      <td>Verify</td>\n",
       "      <td>Azure_SQLDatabase_AuthZ_Firewall_Deny_Access_A...</td>\n",
       "    </tr>\n",
       "    <tr>\n",
       "      <th>2</th>\n",
       "      <td>2</td>\n",
       "      <td>SQLDatabase</td>\n",
       "      <td>Reporting</td>\n",
       "      <td>Verify</td>\n",
       "      <td>Azure_SQLDatabase_AuthZ_Firewall_Deny_Access_A...</td>\n",
       "    </tr>\n",
       "    <tr>\n",
       "      <th>3</th>\n",
       "      <td>2</td>\n",
       "      <td>AppService</td>\n",
       "      <td>Web Front End</td>\n",
       "      <td>Verify</td>\n",
       "      <td>Azure_AppService_AuthZ_Grant_Min_RBAC_Access</td>\n",
       "    </tr>\n",
       "    <tr>\n",
       "      <th>4</th>\n",
       "      <td>2</td>\n",
       "      <td>AppService</td>\n",
       "      <td>APIs</td>\n",
       "      <td>Verify</td>\n",
       "      <td>Azure_AppService_AuthZ_Grant_Min_RBAC_Access</td>\n",
       "    </tr>\n",
       "  </tbody>\n",
       "</table>\n",
       "</div>"
      ],
      "text/plain": [
       "   ResourceGroupId      Feature    CategoryName VerificationResult  \\\n",
       "0                2  SQLDatabase         Storage             Verify   \n",
       "1                2  SQLDatabase  DataProcessing             Verify   \n",
       "2                2  SQLDatabase       Reporting             Verify   \n",
       "3                2   AppService   Web Front End             Verify   \n",
       "4                2   AppService            APIs             Verify   \n",
       "\n",
       "                                     ControlStringId  \n",
       "0  Azure_SQLDatabase_AuthZ_Firewall_Deny_Access_A...  \n",
       "1  Azure_SQLDatabase_AuthZ_Firewall_Deny_Access_A...  \n",
       "2  Azure_SQLDatabase_AuthZ_Firewall_Deny_Access_A...  \n",
       "3       Azure_AppService_AuthZ_Grant_Min_RBAC_Access  \n",
       "4       Azure_AppService_AuthZ_Grant_Min_RBAC_Access  "
      ]
     },
     "execution_count": 3,
     "metadata": {},
     "output_type": "execute_result"
    }
   ],
   "source": [
    "df.head()\n"
   ]
  },
  {
   "cell_type": "code",
   "execution_count": 4,
   "metadata": {},
   "outputs": [],
   "source": [
    "# Create combination dict\n",
    "feature_combinations = defaultdict(set)\n",
    "for idx, row in df.iterrows():\n",
    "    feature_combinations[row[\"ResourceGroupId\"]].add(row[\"Feature\"])"
   ]
  },
  {
   "cell_type": "code",
   "execution_count": 5,
   "metadata": {
    "scrolled": true
   },
   "outputs": [
    {
     "data": {
      "text/plain": [
       "defaultdict(set,\n",
       "            {2: {'AppService',\n",
       "              'Automation',\n",
       "              'EventHub',\n",
       "              'KeyVault',\n",
       "              'SQLDatabase',\n",
       "              'Storage',\n",
       "              'StreamAnalytics'},\n",
       "             6: {'AppService',\n",
       "              'Automation',\n",
       "              'EventHub',\n",
       "              'KeyVault',\n",
       "              'SQLDatabase',\n",
       "              'Storage',\n",
       "              'StreamAnalytics'},\n",
       "             8: {'AppService', 'KeyVault', 'LogicApps', 'Storage'},\n",
       "             260: {'AppService', 'EventHub', 'KeyVault', 'Storage'},\n",
       "             261: {'AppService', 'EventHub', 'KeyVault', 'Storage'},\n",
       "             361: {'AppService', 'KeyVault', 'LogicApps', 'Storage'},\n",
       "             362: {'AppService',\n",
       "              'Automation',\n",
       "              'EventHub',\n",
       "              'KeyVault',\n",
       "              'SQLDatabase',\n",
       "              'Storage',\n",
       "              'StreamAnalytics'},\n",
       "             363: {'AppService', 'KeyVault', 'LogicApps', 'Storage'},\n",
       "             364: {'AppService',\n",
       "              'Automation',\n",
       "              'EventHub',\n",
       "              'KeyVault',\n",
       "              'SQLDatabase',\n",
       "              'Storage',\n",
       "              'StreamAnalytics'},\n",
       "             365: {'AppService', 'KeyVault', 'LogicApps', 'Storage'},\n",
       "             366: {'AppService',\n",
       "              'Automation',\n",
       "              'EventHub',\n",
       "              'KeyVault',\n",
       "              'SQLDatabase',\n",
       "              'Storage',\n",
       "              'StreamAnalytics'},\n",
       "             367: {'AppService', 'KeyVault', 'LogicApps', 'Storage'},\n",
       "             369: {'AppService',\n",
       "              'Automation',\n",
       "              'EventHub',\n",
       "              'KeyVault',\n",
       "              'SQLDatabase',\n",
       "              'Storage',\n",
       "              'StreamAnalytics'},\n",
       "             370: {'AppService', 'KeyVault', 'LogicApps', 'Storage'},\n",
       "             5665: {'Automation', 'EventHub'},\n",
       "             5673: {'TrafficManager'},\n",
       "             5688: {'TrafficManager'},\n",
       "             5697: {'TrafficManager'},\n",
       "             5712: {'TrafficManager'},\n",
       "             5713: {'VirtualNetwork'},\n",
       "             6522: {'AppService',\n",
       "              'CosmosDB',\n",
       "              'DataLakeStore',\n",
       "              'KeyVault',\n",
       "              'RedisCache',\n",
       "              'Storage',\n",
       "              'TrafficManager'},\n",
       "             15754: {'KeyVault'},\n",
       "             15755: {'Automation'},\n",
       "             15761: {'AppService',\n",
       "              'CosmosDB',\n",
       "              'DataLakeStore',\n",
       "              'KeyVault',\n",
       "              'RedisCache',\n",
       "              'Storage',\n",
       "              'TrafficManager'},\n",
       "             15764: {'AppService', 'Automation', 'KeyVault', 'Storage'},\n",
       "             16923: {'KeyVault'},\n",
       "             20490: {'Automation', 'KeyVault', 'Storage'},\n",
       "             22004: {'Storage'},\n",
       "             22682: {'EventHub', 'Storage'},\n",
       "             26505: {'AppService'},\n",
       "             26506: {'AppService'},\n",
       "             30064: {'TrafficManager'},\n",
       "             30153: {'AppService', 'Automation', 'KeyVault', 'Storage'},\n",
       "             30325: {'AppService', 'Automation', 'KeyVault', 'Storage'},\n",
       "             30394: {'AppService'},\n",
       "             30395: {'AppService'},\n",
       "             30596: {'AppService'},\n",
       "             30597: {'AppService'},\n",
       "             31546: {'Automation', 'Storage'},\n",
       "             31600: {'KeyVault'},\n",
       "             31827: {'VirtualNetwork'},\n",
       "             31928: {'AppService'},\n",
       "             31929: {'AppService'},\n",
       "             32157: {'AppService'},\n",
       "             32158: {'AppService'}})"
      ]
     },
     "execution_count": 5,
     "metadata": {},
     "output_type": "execute_result"
    }
   ],
   "source": [
    "feature_combinations"
   ]
  },
  {
   "cell_type": "code",
   "execution_count": 6,
   "metadata": {},
   "outputs": [],
   "source": [
    "failures = defaultdict(dict)\n",
    "for idx, row in df.iterrows():\n",
    "    totals = failures[row[\"ResourceGroupId\"]].setdefault(\"Totals\", 0)\n",
    "    fails = failures[row[\"ResourceGroupId\"]].setdefault(\"Fails\", 0)\n",
    "    success = failures[row[\"ResourceGroupId\"]].setdefault(\"Success\", 0)\n",
    "    failures[row[\"ResourceGroupId\"]][\"Totals\"] = totals + 1 \n",
    "    if row[\"VerificationResult\"] == \"Passed\":\n",
    "        failures[row[\"ResourceGroupId\"]][\"Success\"] = success + 1\n",
    "    else:\n",
    "        failures[row[\"ResourceGroupId\"]][\"Fails\"] = fails + 1"
   ]
  },
  {
   "cell_type": "code",
   "execution_count": 53,
   "metadata": {},
   "outputs": [],
   "source": [
    "feature_hash_map = {\n",
    "    \"SQLDatabase\": 3940427,\n",
    "    \"AppService\": 3940763,\n",
    "    \"StreamAnalytics\": 1414297,\n",
    "    \"KeyVault\": 3125831,\n",
    "    \"Storage\": 5392313,\n",
    "    \"Automation\": 6305339,\n",
    "    \"EventHub\": 7368719,\n",
    "    \"LogicApps\": 7368629,\n",
    "    \"TrafficManager\": 7368787,\n",
    "    \"VirtualNetwork\": 2523893,\n",
    "    \"DataLakeStore\": 4284113,\n",
    "    \"CosmosDB\": 5602973,\n",
    "    \"RedisCache\": 5603713,\n",
    "}\n",
    "\n",
    "category_hash_map = {\n",
    "    \"Storage\" : 1000003,\n",
    "    \"DataProcessing\" : 1000033,\n",
    "    \"Reporting\" : 1000037,\n",
    "    \"Web Front End\" : 1000039,\n",
    "    \"APIs\" : 1000081,\n",
    "    \"Security Infra\" : 1000099,\n",
    "    \"SubscriptionCore\" : 1000117,\n",
    "    \"Commuincation Hub\" : 1000121,\n",
    "    \"Hybrid\" : 1000133,\n",
    "    \"Network Isolation\" : 1000151,\n",
    "    \"Cache\" : 1000159\n",
    "}\n",
    "\n",
    "parent_map = {\n",
    "    \"AppService\": [\"Web Front End\", \"APIs\"],\n",
    "    \"SQLDatabase\": [\"Storage\", \"DataProcessing\", \"Reporting\"],\n",
    "    \"Storage\": [\"Storage\", \"Reporting\", \"DataProcessing\"],\n",
    "    \"LogicApps\": [\"DataProcessing\"],\n",
    "    \"DataFactory\": [\"DataProcessing\"],\n",
    "    \"DataLakeAnalytics\": [\"DataProcessing\", \"Reporting\"],\n",
    "    \"DataLakeStore\": [\"Storage\", \"Reporting\", \"DataProcessing\"],\n",
    "    \"NotificationHub\": [\"Commuincation Hub\"],\n",
    "    \"ServiceFabric\": [\"Web Front End\", \"APIs\", \"Backend Processing\"],\n",
    "    \"Search\": [\"APIs\", \"Backend Processing\"],\n",
    "    \"VirtualMachine\": [\"Web Front End\", \"APIs\", \"Backend Processing\", \"DataProcessing\"],\n",
    "    \"VirtualNetwork\": [\"Network Isolation\", \"Hybrid\"],\n",
    "    \"AnalysisServices\": [\"DataProcessing\", \"Reporting\"],\n",
    "    \"Batch\": [\"Backend Processing\"],\n",
    "    \"RedisCache\": [\"Cache\"],\n",
    "    \"EventHub\": [\"Commuincation Hub\", \"Hybrid\"],\n",
    "    \"ODG\": [\"Hybrid\"],\n",
    "    \"TrafficManager\": [\"Network Isolation\"],\n",
    "    \"ERvNet\": [\"Hybrid\", \"Network Isolation\"],\n",
    "    \"Automation\": [\"SubscriptionCore\"],\n",
    "    \"CosmosDB\": [\"Storage\", \"DataProcessing\", \"Reporting\"],\n",
    "    \"StreamAnalytics\": [\"DataProcessing\", \"Reporting\"],\n",
    "    \"CloudService\": [\"Web Front End\", \"APIs\", \"Backend Processing\"],\n",
    "    \"LoadBalancer\": [\"Network Isolation\"],\n",
    "    \"APIConnection\": [\"DataProcessing\"],\n",
    "    \"BotService\": [\"APIs\", \"Commuincation Hub\", \"Web Front End\"],\n",
    "    \"ContainerInstances\": [\"Web Front End\", \"APIs\", \"DataProcessing\", \"Backend Processing\"],\n",
    "    \"DataFactoryV2\": [\"DataProcessing\", \"Backend Processing\"],\n",
    "    \"KeyVault\": [\"Security Infra\"]\n",
    "}\n",
    "\n",
    "BIG_PRIME = 824633720831\n",
    "\n",
    "def get_feature_hash(features):\n",
    "    hash_val = 1\n",
    "    for feature in features:\n",
    "        hash_val *= feature_hash_map[feature]\n",
    "        hash_val %= BIG_PRIME\n",
    "    return hash_val\n",
    "\n",
    "def get_category_hash(categories):\n",
    "    hash_val = 1\n",
    "    for category in categories:\n",
    "        hash_val *= category_hash_map[category]\n",
    "        hash_val %= BIG_PRIME\n",
    "    return hash_val"
   ]
  },
  {
   "cell_type": "code",
   "execution_count": 9,
   "metadata": {},
   "outputs": [
    {
     "data": {
      "text/plain": [
       "array(['SQLDatabase', 'AppService', 'StreamAnalytics', 'KeyVault',\n",
       "       'Storage', 'Automation', 'EventHub', 'LogicApps', 'TrafficManager',\n",
       "       'VirtualNetwork', 'DataLakeStore', 'CosmosDB', 'RedisCache'],\n",
       "      dtype=object)"
      ]
     },
     "execution_count": 9,
     "metadata": {},
     "output_type": "execute_result"
    }
   ],
   "source": [
    "df[\"Feature\"].unique()"
   ]
  },
  {
   "cell_type": "code",
   "execution_count": 10,
   "metadata": {
    "scrolled": true
   },
   "outputs": [
    {
     "data": {
      "text/plain": [
       "397933297130"
      ]
     },
     "execution_count": 10,
     "metadata": {},
     "output_type": "execute_result"
    }
   ],
   "source": [
    "get_hash(['AppService', 'StreamAnalytics', 'KeyVault', 'Storage', 'SQLDatabase'])"
   ]
  },
  {
   "cell_type": "code",
   "execution_count": 40,
   "metadata": {},
   "outputs": [],
   "source": [
    "master_hash_table = dict()\n",
    "for res_id in feature_combinations:\n",
    "    features = feature_combinations[res_id]\n",
    "    feature_hash = get_hash(features)\n",
    "    int_list = master_hash_table.setdefault(feature_hash, {\"features\": features, \"counts\": 0, \"info\": failures[res_id]})\n",
    "    int_list[\"counts\"] += 1\n",
    "    # master_hash_table[feature_hash] = int_list"
   ]
  },
  {
   "cell_type": "code",
   "execution_count": 42,
   "metadata": {
    "scrolled": false
   },
   "outputs": [
    {
     "name": "stdout",
     "output_type": "stream",
     "text": [
      "{'features': {'StreamAnalytics', 'Storage', 'Automation', 'SQLDatabase', 'EventHub', 'KeyVault', 'AppService'}, 'counts': 6, 'info': {'Totals': 709, 'Fails': 448, 'Success': 261}}\n",
      "****************************************************************************************************\n",
      "{'features': {'AppService', 'LogicApps', 'KeyVault', 'Storage'}, 'counts': 6, 'info': {'Totals': 285, 'Fails': 193, 'Success': 92}}\n",
      "****************************************************************************************************\n",
      "{'features': {'KeyVault', 'Storage', 'EventHub', 'AppService'}, 'counts': 2, 'info': {'Totals': 363, 'Fails': 221, 'Success': 142}}\n",
      "****************************************************************************************************\n",
      "{'features': {'Automation', 'EventHub'}, 'counts': 1, 'info': {'Totals': 34, 'Fails': 31, 'Success': 3}}\n",
      "****************************************************************************************************\n",
      "{'features': {'TrafficManager'}, 'counts': 5, 'info': {'Totals': 2, 'Fails': 1, 'Success': 1}}\n",
      "****************************************************************************************************\n",
      "{'features': {'VirtualNetwork'}, 'counts': 2, 'info': {'Totals': 132, 'Fails': 24, 'Success': 108}}\n",
      "****************************************************************************************************\n",
      "{'features': {'CosmosDB', 'RedisCache', 'Storage', 'DataLakeStore', 'KeyVault', 'TrafficManager', 'AppService'}, 'counts': 2, 'info': {'Totals': 804, 'Fails': 431, 'Success': 373}}\n",
      "****************************************************************************************************\n",
      "{'features': {'KeyVault'}, 'counts': 3, 'info': {'Totals': 13, 'Fails': 10, 'Success': 3}}\n",
      "****************************************************************************************************\n",
      "{'features': {'Automation'}, 'counts': 1, 'info': {'Totals': 10, 'Fails': 7, 'Success': 3}}\n",
      "****************************************************************************************************\n",
      "{'features': {'Automation', 'AppService', 'KeyVault', 'Storage'}, 'counts': 3, 'info': {'Totals': 113, 'Fails': 85, 'Success': 28}}\n",
      "****************************************************************************************************\n",
      "{'features': {'Automation', 'Storage', 'KeyVault'}, 'counts': 1, 'info': {'Totals': 62, 'Fails': 45, 'Success': 17}}\n",
      "****************************************************************************************************\n",
      "{'features': {'Storage'}, 'counts': 1, 'info': {'Totals': 39, 'Fails': 18, 'Success': 21}}\n",
      "****************************************************************************************************\n",
      "{'features': {'Storage', 'EventHub'}, 'counts': 1, 'info': {'Totals': 451, 'Fails': 295, 'Success': 156}}\n",
      "****************************************************************************************************\n",
      "{'features': {'AppService'}, 'counts': 10, 'info': {'Totals': 38, 'Fails': 26, 'Success': 12}}\n",
      "****************************************************************************************************\n",
      "{'features': {'Automation', 'Storage'}, 'counts': 1, 'info': {'Totals': 28, 'Fails': 21, 'Success': 7}}\n",
      "****************************************************************************************************\n"
     ]
    }
   ],
   "source": [
    "for x in master_hash_table:\n",
    "    print(master_hash_table[x])\n",
    "    print(\"*\" * 100)"
   ]
  },
  {
   "cell_type": "code",
   "execution_count": 59,
   "metadata": {},
   "outputs": [
    {
     "name": "stdout",
     "output_type": "stream",
     "text": [
      "ace\n",
      "END\n",
      "ade\n",
      "END\n",
      "bce\n",
      "END\n",
      "bde\n",
      "END\n"
     ]
    }
   ],
   "source": [
    "list_ = ['StreamAnalytics', 'Storage', 'Automation']\n",
    "\n",
    "temp_par = {\n",
    "    \"StreamAnalytics\": [\"a\", \"b\"],\n",
    "    \"Storage\": [\"c\", \"d\"],\n",
    "    \"Automation\": [\"e\"]\n",
    "}\n",
    "\n",
    "\n",
    "def recurse(my_list, cache):\n",
    "    if my_list:\n",
    "        for parent in temp_par[my_list[0]]:\n",
    "            recurse(my_list[1:], cache * parent)\n",
    "    else:\n",
    "        print(cache)\n",
    "        print(\"END\")\n",
    "\n",
    "recurse(list_, \"\")"
   ]
  },
  {
   "cell_type": "code",
   "execution_count": 36,
   "metadata": {},
   "outputs": [],
   "source": [
    "parent_map = defaultdict(list)\n",
    "\n",
    "for indx, row in pdf.iterrows():\n",
    "    parent_map[row[\"Feature\"]].append(row[\"Category\"])"
   ]
  },
  {
   "cell_type": "code",
   "execution_count": null,
   "metadata": {},
   "outputs": [],
   "source": []
  }
 ],
 "metadata": {
  "kernelspec": {
   "display_name": "Python 3",
   "language": "python",
   "name": "python3"
  },
  "language_info": {
   "codemirror_mode": {
    "name": "ipython",
    "version": 3
   },
   "file_extension": ".py",
   "mimetype": "text/x-python",
   "name": "python",
   "nbconvert_exporter": "python",
   "pygments_lexer": "ipython3",
   "version": "3.6.5"
  }
 },
 "nbformat": 4,
 "nbformat_minor": 2
}
